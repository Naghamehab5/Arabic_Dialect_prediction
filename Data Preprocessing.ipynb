{
 "cells": [
  {
   "cell_type": "markdown",
   "metadata": {},
   "source": [
    "# Import libraries"
   ]
  },
  {
   "cell_type": "code",
   "execution_count": 1,
   "metadata": {
    "id": "ETlqyUkguifd"
   },
   "outputs": [],
   "source": [
    "import re\n",
    "import numpy as np\n",
    "import pandas as pd\n",
    "import matplotlib.pyplot as plt\n",
    "import seaborn as sns\n",
    "from sklearn import preprocessing\n",
    "from sklearn.model_selection import train_test_split\n",
    "from sklearn.base import BaseEstimator, TransformerMixin\n",
    "from sklearn.pipeline import Pipeline\n",
    "\n",
    "import nltk\n",
    "from nltk.corpus import stopwords\n",
    "from sklearn.pipeline import Pipeline\n",
    "from sklearn.base import BaseEstimator, TransformerMixin"
   ]
  },
  {
   "cell_type": "markdown",
   "metadata": {},
   "source": [
    "# Load Dataset"
   ]
  },
  {
   "cell_type": "code",
   "execution_count": 3,
   "metadata": {
    "id": "JDh-BJxVuCFW"
   },
   "outputs": [],
   "source": [
    "df=pd.read_csv(\"D:/iti2/NLP/final project/Data Fetching/dialects_data.csv\")"
   ]
  },
  {
   "cell_type": "code",
   "execution_count": 4,
   "metadata": {},
   "outputs": [
    {
     "data": {
      "text/html": [
       "<div>\n",
       "<style scoped>\n",
       "    .dataframe tbody tr th:only-of-type {\n",
       "        vertical-align: middle;\n",
       "    }\n",
       "\n",
       "    .dataframe tbody tr th {\n",
       "        vertical-align: top;\n",
       "    }\n",
       "\n",
       "    .dataframe thead th {\n",
       "        text-align: right;\n",
       "    }\n",
       "</style>\n",
       "<table border=\"1\" class=\"dataframe\">\n",
       "  <thead>\n",
       "    <tr style=\"text-align: right;\">\n",
       "      <th></th>\n",
       "      <th>text</th>\n",
       "      <th>dialect</th>\n",
       "    </tr>\n",
       "  </thead>\n",
       "  <tbody>\n",
       "    <tr>\n",
       "      <th>0</th>\n",
       "      <td>@toha_Altomy @gy_yah قليلين ادب ومنافقين. لو ا...</td>\n",
       "      <td>LY</td>\n",
       "    </tr>\n",
       "    <tr>\n",
       "      <th>1</th>\n",
       "      <td>@AlmFaisal 😂😂 الليبيين متقلبين!!!\\nبس بالنسبة ...</td>\n",
       "      <td>LY</td>\n",
       "    </tr>\n",
       "    <tr>\n",
       "      <th>2</th>\n",
       "      <td>@smsm071990 @ALMOGRBE كل 20 تانيه شاب ليبي بير...</td>\n",
       "      <td>LY</td>\n",
       "    </tr>\n",
       "    <tr>\n",
       "      <th>3</th>\n",
       "      <td>@AboryPro @lyranoo85 رانيا عقليتك متخلفة. اولا...</td>\n",
       "      <td>LY</td>\n",
       "    </tr>\n",
       "    <tr>\n",
       "      <th>4</th>\n",
       "      <td>@lyranoo85 شكلك متعقدة علشان الراجل لي تحبيه ا...</td>\n",
       "      <td>LY</td>\n",
       "    </tr>\n",
       "    <tr>\n",
       "      <th>5</th>\n",
       "      <td>@alibobkr63 او حتى من اي دين او طائفة. اسف ممك...</td>\n",
       "      <td>LY</td>\n",
       "    </tr>\n",
       "    <tr>\n",
       "      <th>6</th>\n",
       "      <td>@muhamed01111 باهي نستنوه. بلكي مشغول ولا حاجة</td>\n",
       "      <td>LY</td>\n",
       "    </tr>\n",
       "    <tr>\n",
       "      <th>7</th>\n",
       "      <td>@muhamed01111 مهما اختلفنا راه نحنا خوت. والله...</td>\n",
       "      <td>LY</td>\n",
       "    </tr>\n",
       "    <tr>\n",
       "      <th>8</th>\n",
       "      <td>@muhamed01111 بالنسبة ليا انا والله شبعت هم ون...</td>\n",
       "      <td>LY</td>\n",
       "    </tr>\n",
       "    <tr>\n",
       "      <th>9</th>\n",
       "      <td>@Ajo32asLibya @Jed_ly مو نحنا الحياة عندنا مية...</td>\n",
       "      <td>LY</td>\n",
       "    </tr>\n",
       "    <tr>\n",
       "      <th>10</th>\n",
       "      <td>@Fabbenghazi تبي تقضي على متطرفين باهي بس متظل...</td>\n",
       "      <td>LY</td>\n",
       "    </tr>\n",
       "    <tr>\n",
       "      <th>11</th>\n",
       "      <td>@aldocosta0701 @libyanelshiply ان شاءالله توة ...</td>\n",
       "      <td>LY</td>\n",
       "    </tr>\n",
       "    <tr>\n",
       "      <th>12</th>\n",
       "      <td>@koshalata_ly هذي التغريدة تفضلي اقريها من جدي...</td>\n",
       "      <td>LY</td>\n",
       "    </tr>\n",
       "    <tr>\n",
       "      <th>13</th>\n",
       "      <td>@koshalata_ly توة تحرضي للعنف وتقولي ان فكرك م...</td>\n",
       "      <td>LY</td>\n",
       "    </tr>\n",
       "    <tr>\n",
       "      <th>14</th>\n",
       "      <td>@b___82 اوكي يحجزوهم لعند منقدروا نحاكموهم. بس...</td>\n",
       "      <td>LY</td>\n",
       "    </tr>\n",
       "  </tbody>\n",
       "</table>\n",
       "</div>"
      ],
      "text/plain": [
       "                                                 text dialect\n",
       "0   @toha_Altomy @gy_yah قليلين ادب ومنافقين. لو ا...      LY\n",
       "1   @AlmFaisal 😂😂 الليبيين متقلبين!!!\\nبس بالنسبة ...      LY\n",
       "2   @smsm071990 @ALMOGRBE كل 20 تانيه شاب ليبي بير...      LY\n",
       "3   @AboryPro @lyranoo85 رانيا عقليتك متخلفة. اولا...      LY\n",
       "4   @lyranoo85 شكلك متعقدة علشان الراجل لي تحبيه ا...      LY\n",
       "5   @alibobkr63 او حتى من اي دين او طائفة. اسف ممك...      LY\n",
       "6      @muhamed01111 باهي نستنوه. بلكي مشغول ولا حاجة      LY\n",
       "7   @muhamed01111 مهما اختلفنا راه نحنا خوت. والله...      LY\n",
       "8   @muhamed01111 بالنسبة ليا انا والله شبعت هم ون...      LY\n",
       "9   @Ajo32asLibya @Jed_ly مو نحنا الحياة عندنا مية...      LY\n",
       "10  @Fabbenghazi تبي تقضي على متطرفين باهي بس متظل...      LY\n",
       "11  @aldocosta0701 @libyanelshiply ان شاءالله توة ...      LY\n",
       "12  @koshalata_ly هذي التغريدة تفضلي اقريها من جدي...      LY\n",
       "13  @koshalata_ly توة تحرضي للعنف وتقولي ان فكرك م...      LY\n",
       "14  @b___82 اوكي يحجزوهم لعند منقدروا نحاكموهم. بس...      LY"
      ]
     },
     "execution_count": 4,
     "metadata": {},
     "output_type": "execute_result"
    }
   ],
   "source": [
    "data = df.copy()\n",
    "data = data.drop('id',axis=1)\n",
    "data.head(15)"
   ]
  },
  {
   "cell_type": "code",
   "execution_count": 5,
   "metadata": {
    "colab": {
     "base_uri": "https://localhost:8080/"
    },
    "id": "TjaN9SD6urso",
    "outputId": "003a7132-1523-4fa6-9282-94becc518cbb"
   },
   "outputs": [
    {
     "name": "stdout",
     "output_type": "stream",
     "text": [
      "<class 'pandas.core.frame.DataFrame'>\n",
      "RangeIndex: 147725 entries, 0 to 147724\n",
      "Data columns (total 2 columns):\n",
      " #   Column   Non-Null Count   Dtype \n",
      "---  ------   --------------   ----- \n",
      " 0   text     147725 non-null  object\n",
      " 1   dialect  147725 non-null  object\n",
      "dtypes: object(2)\n",
      "memory usage: 2.3+ MB\n"
     ]
    }
   ],
   "source": [
    "data.info()"
   ]
  },
  {
   "cell_type": "markdown",
   "metadata": {
    "id": "TzvT0eJv2YPJ"
   },
   "source": [
    "# **EDA**"
   ]
  },
  {
   "cell_type": "code",
   "execution_count": 6,
   "metadata": {},
   "outputs": [
    {
     "name": "stdout",
     "output_type": "stream",
     "text": [
      "NaN check:\n",
      " text       False\n",
      "dialect    False\n",
      "dtype: bool\n",
      "\n",
      "Duplicated rows:\n",
      " 0         False\n",
      "1         False\n",
      "2         False\n",
      "3         False\n",
      "4         False\n",
      "          ...  \n",
      "147720    False\n",
      "147721    False\n",
      "147722    False\n",
      "147723    False\n",
      "147724    False\n",
      "Length: 147725, dtype: bool\n",
      "\n",
      "Number of duplicated rows: 0\n",
      "\n",
      "dialect value counts:\n",
      " dialect\n",
      "EG    57636\n",
      "LY    36499\n",
      "LB    27617\n",
      "SD    14434\n",
      "MA    11539\n",
      "Name: count, dtype: int64\n"
     ]
    },
    {
     "data": {
      "image/png": "[encoded data removed]",
      "text/plain": [
       "<Figure size 640x480 with 1 Axes>"
      ]
     },
     "metadata": {},
     "output_type": "display_data"
    },
    {
     "name": "stdout",
     "output_type": "stream",
     "text": [
      "\n",
      "Sample text (index 58407):\n",
      " @badawy_afaaf العيال دي لازم تتربى هما واهاليهم اللي معرفوش يربوهم دا اذا كان لهم اهل ..ونرجع تاني بقه نخلي المدرجات فاضية احسن بلا جمهور بلا كلام فاضي ...\n",
      "\n",
      "Label EG percentage: 39.02%\n",
      "\n",
      "Label LY percentage: 24.71%\n",
      "\n",
      "Label LB percentage: 18.69%\n",
      "\n",
      "Label SD percentage: 9.77%\n",
      "\n",
      "Label MA percentage: 7.81%\n"
     ]
    }
   ],
   "source": [
    "def EDA(data):\n",
    "    # Check for NaNs\n",
    "    nan= data.isnull().any()\n",
    "    print(\"NaN check:\\n\", nan)\n",
    "    \n",
    "    # Check for duplicates\n",
    "    duplicated = data.duplicated() \n",
    "    print(\"\\nDuplicated rows:\\n\", duplicated)\n",
    "    duplicate_count = data.duplicated().sum()\n",
    "    print(\"\\nNumber of duplicated rows:\", duplicate_count)\n",
    "    \n",
    "    # Show a representative sample of data texts\n",
    "    label_counts = data['dialect'].value_counts()\n",
    "    print(\"\\ndialect value counts:\\n\", label_counts)\n",
    "    \n",
    "    sns.barplot(x=label_counts.index, y=label_counts.values, palette='viridis')\n",
    "    plt.title('dialect Distribution')\n",
    "    plt.xlabel('dialect')\n",
    "    plt.ylabel('Frequency')\n",
    "    plt.show()\n",
    "    \n",
    "    # Sample a random text\n",
    "    sample_index = np.random.randint(0, len(data))\n",
    "    sample_text = data.iloc[sample_index]['text']\n",
    "    print(\"\\nSample text (index {}):\\n\".format(sample_index), sample_text)\n",
    "    \n",
    "    # Check dataset balancing\n",
    "    total_count = df.shape[0]\n",
    "    for label in label_counts.index:\n",
    "        label_percentage = (label_counts[label] / total_count) * 100\n",
    "        print(\"\\nLabel {} percentage: {:.2f}%\".format(label, label_percentage))\n",
    "    \n",
    "EDA(data)"
   ]
  },
  {
   "cell_type": "markdown",
   "metadata": {
    "id": "zcdWXlsT9QmK"
   },
   "source": [
    "# Cleaning and Preprocessing"
   ]
  },
  {
   "cell_type": "code",
   "execution_count": 18,
   "metadata": {},
   "outputs": [],
   "source": [
    "def _remove_usernames(text):\n",
    "    return re.sub(r'@\\w+', '', text)\n",
    "\n",
    "def _remove_emojis(text):\n",
    "    return re.sub(r'[^\\w\\s#@/:%.,_-]', '', text)\n",
    "\n",
    "def _remove_numbers(text):\n",
    "    return re.sub(r'\\d+', '', text)\n",
    "\n",
    "def _remove_links(text):\n",
    "    URL_REGEXES = [\n",
    "        r\"(http(s)?:\\/\\/.)?(www\\.)?[-a-zA-Z0-9@:%._\\+~#=]{2,256}\\.[a-z]{2,6}\\b([-a-zA-Z0-9@:%_\\+.~#?&//=]*)\",\n",
    "        r\"@(https?|ftp)://(-\\.)?([^\\s/?\\.#-]+\\.?)+(/[^\\s]*)?$@iS\",\n",
    "        r\"http[s]?://[a-zA-Z0-9_\\-./~\\?=%&]+\",\n",
    "        r\"www[a-zA-Z0-9_\\-?=%&/.~]+\",\n",
    "        r\"[a-zA-Z]+\\.com\",\n",
    "        r\"(?=http)[^\\s]+\",\n",
    "        r\"(?=www)[^\\s]+\",\n",
    "        r\"://\"]\n",
    "    for pattern in URL_REGEXES:\n",
    "        text = re.sub(pattern, '', text)\n",
    "    return text\n",
    "\n",
    "def _remove_english(  text):\n",
    "    return re.sub(r'[a-zA-Z]+', '', text)\n",
    "\n",
    "def _remove_diacritics(  text):\n",
    "    arabic_diacritics = re.compile(\"\"\"\n",
    "                                ّ    | # Tashdid\n",
    "                                َ    | # Fatha\n",
    "                                ً    | # Tanwin Fath\n",
    "                                ُ    | # Damma\n",
    "                                ٌ    | # Tanwin Damm\n",
    "                                ِ    | # Kasra\n",
    "                                ٍ    | # Tanwin Kasr\n",
    "                                ْ    | # Sukun\n",
    "                               ـ    | # Tatwil/Kashida\n",
    "                            \"\"\", re.VERBOSE)\n",
    "    return re.sub(arabic_diacritics, '', text)\n",
    "\n",
    "def _normalize_chars(  text):\n",
    "    text = re.sub(\"[إأآا]\", \"ا\", text)\n",
    "    text = re.sub(\"ى\", \"ي\", text)\n",
    "    text = re.sub(\"ؤ\", \"ء\", text)\n",
    "    text = re.sub(\"ئ\", \"ء\", text)\n",
    "    text = re.sub(\"ة\", \"ه\", text)\n",
    "    text = re.sub(\"گ\", \"ك\", text)\n",
    "    text = re.sub(\"ڤ\", \"ف\", text)\n",
    "    text = re.sub(\"چ\", \"ج\", text)\n",
    "    text = re.sub(\"ژ\", \"ز\", text)\n",
    "    text = re.sub(\"پ\", \"ب\", text)\n",
    "    return text\n",
    "\n",
    "def _remove_special_chars(  text):\n",
    "    pattern = re.compile(r'[^\\u0600-\\u06FF\\u0750-\\u077F\\u08A0-\\u08FF\\d# ]+')\n",
    "    return re.sub(pattern, ' ', text)\n",
    "\n",
    "def _remove_punctuation(  text):\n",
    "    pun = r\"([!\\\"#$%\\'\\*\\+,\\.:;\\-<=·>?@\\^_ـ`{\\|}~—٪’،؟`୍“؛”ۚ【»؛\\s+«–…‘])\"\n",
    "    return re.sub(pun, ' ', text)\n",
    "\n",
    "def _remove_whitespaces(  text):\n",
    "    return re.sub(r'\\s+', ' ', text).strip()\n",
    "\n",
    "def _remove_repeated_chars(  text):\n",
    "    pattern = re.compile(r\"(.)\\1{2,}\")\n",
    "    return pattern.sub(r\"\\1\\1\", text)\n"
   ]
  },
  {
   "cell_type": "code",
   "execution_count": 27,
   "metadata": {},
   "outputs": [],
   "source": [
    "def preprocess(text):\n",
    "    text =  _remove_usernames(text)\n",
    "    text =  _remove_emojis(text)\n",
    "    text =  _remove_numbers(text)\n",
    "    text =  _remove_links(text)\n",
    "    text =  _remove_english(text)\n",
    "    text =  _remove_diacritics(text)\n",
    "    text =  _normalize_chars(text)\n",
    "    text =  _remove_special_chars(text)\n",
    "    text =  _remove_punctuation(text)\n",
    "    text =  _remove_whitespaces(text)\n",
    "    text =  _remove_repeated_chars(text)\n",
    "    return text\n"
   ]
  },
  {
   "cell_type": "code",
   "execution_count": 28,
   "metadata": {},
   "outputs": [],
   "source": [
    "data['text']=data['text'].apply(preprocess)"
   ]
  },
  {
   "cell_type": "code",
   "execution_count": 29,
   "metadata": {},
   "outputs": [
    {
     "data": {
      "text/html": [
       "<div>\n",
       "<style scoped>\n",
       "    .dataframe tbody tr th:only-of-type {\n",
       "        vertical-align: middle;\n",
       "    }\n",
       "\n",
       "    .dataframe tbody tr th {\n",
       "        vertical-align: top;\n",
       "    }\n",
       "\n",
       "    .dataframe thead th {\n",
       "        text-align: right;\n",
       "    }\n",
       "</style>\n",
       "<table border=\"1\" class=\"dataframe\">\n",
       "  <thead>\n",
       "    <tr style=\"text-align: right;\">\n",
       "      <th></th>\n",
       "      <th>text</th>\n",
       "      <th>dialect</th>\n",
       "    </tr>\n",
       "  </thead>\n",
       "  <tbody>\n",
       "    <tr>\n",
       "      <th>0</th>\n",
       "      <td>قليلين ادب ومنافقين لو اختهم او قريبتهم تتعاكس...</td>\n",
       "      <td>LY</td>\n",
       "    </tr>\n",
       "    <tr>\n",
       "      <th>1</th>\n",
       "      <td>الليبيين متقلبين بس بالنسبه ليا انا ميليشياوي ...</td>\n",
       "      <td>LY</td>\n",
       "    </tr>\n",
       "    <tr>\n",
       "      <th>2</th>\n",
       "      <td>كل تانيه شاب ليبي بيرتاح لبنت مختلفه ويلاحظ ان...</td>\n",
       "      <td>LY</td>\n",
       "    </tr>\n",
       "    <tr>\n",
       "      <th>3</th>\n",
       "      <td>رانيا عقليتك متخلفه اولا الانسان يلي يحتاج اهل...</td>\n",
       "      <td>LY</td>\n",
       "    </tr>\n",
       "    <tr>\n",
       "      <th>4</th>\n",
       "      <td>شكلك متعقده علشان الراجل لي تحبيه ازوج بنت يتي...</td>\n",
       "      <td>LY</td>\n",
       "    </tr>\n",
       "    <tr>\n",
       "      <th>...</th>\n",
       "      <td>...</td>\n",
       "      <td>...</td>\n",
       "    </tr>\n",
       "    <tr>\n",
       "      <th>147720</th>\n",
       "      <td>الناس دي بتنفخ في قربه مقدوده بالدارجي كده الب...</td>\n",
       "      <td>SD</td>\n",
       "    </tr>\n",
       "    <tr>\n",
       "      <th>147721</th>\n",
       "      <td>انت عايش وين بره السودان ولا شنو ماشايف البحصل دا</td>\n",
       "      <td>SD</td>\n",
       "    </tr>\n",
       "    <tr>\n",
       "      <th>147722</th>\n",
       "      <td>مااحرم نفسي ميسي حريف ولعاب برضو مدريدي وافتخر</td>\n",
       "      <td>SD</td>\n",
       "    </tr>\n",
       "    <tr>\n",
       "      <th>147723</th>\n",
       "      <td>ياخي ديل ماخلو للشيطان وابليس شي لكن يروحو وين...</td>\n",
       "      <td>SD</td>\n",
       "    </tr>\n",
       "    <tr>\n",
       "      <th>147724</th>\n",
       "      <td>النبي فيك صدمتني ياخي عاوز تعويض</td>\n",
       "      <td>SD</td>\n",
       "    </tr>\n",
       "  </tbody>\n",
       "</table>\n",
       "<p>147725 rows × 2 columns</p>\n",
       "</div>"
      ],
      "text/plain": [
       "                                                     text dialect\n",
       "0       قليلين ادب ومنافقين لو اختهم او قريبتهم تتعاكس...      LY\n",
       "1       الليبيين متقلبين بس بالنسبه ليا انا ميليشياوي ...      LY\n",
       "2       كل تانيه شاب ليبي بيرتاح لبنت مختلفه ويلاحظ ان...      LY\n",
       "3       رانيا عقليتك متخلفه اولا الانسان يلي يحتاج اهل...      LY\n",
       "4       شكلك متعقده علشان الراجل لي تحبيه ازوج بنت يتي...      LY\n",
       "...                                                   ...     ...\n",
       "147720  الناس دي بتنفخ في قربه مقدوده بالدارجي كده الب...      SD\n",
       "147721  انت عايش وين بره السودان ولا شنو ماشايف البحصل دا      SD\n",
       "147722     مااحرم نفسي ميسي حريف ولعاب برضو مدريدي وافتخر      SD\n",
       "147723  ياخي ديل ماخلو للشيطان وابليس شي لكن يروحو وين...      SD\n",
       "147724                   النبي فيك صدمتني ياخي عاوز تعويض      SD\n",
       "\n",
       "[147725 rows x 2 columns]"
      ]
     },
     "execution_count": 29,
     "metadata": {},
     "output_type": "execute_result"
    }
   ],
   "source": [
    "data"
   ]
  },
  {
   "cell_type": "code",
   "execution_count": 30,
   "metadata": {},
   "outputs": [
    {
     "name": "stdout",
     "output_type": "stream",
     "text": [
      "NaN check:\n",
      " text       False\n",
      "dialect    False\n",
      "dtype: bool\n",
      "\n",
      "Duplicated rows:\n",
      " 0         False\n",
      "1         False\n",
      "2         False\n",
      "3         False\n",
      "4         False\n",
      "          ...  \n",
      "147720    False\n",
      "147721    False\n",
      "147722    False\n",
      "147723    False\n",
      "147724    False\n",
      "Length: 147725, dtype: bool\n",
      "\n",
      "Number of duplicated rows: 97\n",
      "\n",
      "dialect value counts:\n",
      " dialect\n",
      "EG    57636\n",
      "LY    36499\n",
      "LB    27617\n",
      "SD    14434\n",
      "MA    11539\n",
      "Name: count, dtype: int64\n"
     ]
    },
    {
     "data": {
      "image/png": "[encoded data removed]",
      "text/plain": [
       "<Figure size 640x480 with 1 Axes>"
      ]
     },
     "metadata": {},
     "output_type": "display_data"
    },
    {
     "name": "stdout",
     "output_type": "stream",
     "text": [
      "\n",
      "Sample text (index 105876):\n",
      " ميوشتي كل عيد حب وانتي ب فرحه يارب\n",
      "\n",
      "Label EG percentage: 39.02%\n",
      "\n",
      "Label LY percentage: 24.71%\n",
      "\n",
      "Label LB percentage: 18.69%\n",
      "\n",
      "Label SD percentage: 9.77%\n",
      "\n",
      "Label MA percentage: 7.81%\n"
     ]
    }
   ],
   "source": [
    "def EDA(data):\n",
    "    # Check for NaNs\n",
    "    nan= data.isnull().any()\n",
    "    print(\"NaN check:\\n\", nan)\n",
    "    \n",
    "    # Check for duplicates\n",
    "    duplicated = data.duplicated() \n",
    "    print(\"\\nDuplicated rows:\\n\", duplicated)\n",
    "    duplicate_count = data.duplicated().sum()\n",
    "    print(\"\\nNumber of duplicated rows:\", duplicate_count)\n",
    "    \n",
    "    # Show a representative sample of data texts\n",
    "    label_counts = data['dialect'].value_counts()\n",
    "    print(\"\\ndialect value counts:\\n\", label_counts)\n",
    "    \n",
    "    sns.barplot(x=label_counts.index, y=label_counts.values, palette='viridis')\n",
    "    plt.title('dialect Distribution')\n",
    "    plt.xlabel('dialect')\n",
    "    plt.ylabel('Frequency')\n",
    "    plt.show()\n",
    "    \n",
    "    # Sample a random text\n",
    "    sample_index = np.random.randint(0, len(data))\n",
    "    sample_text = data.iloc[sample_index]['text']\n",
    "    print(\"\\nSample text (index {}):\\n\".format(sample_index), sample_text)\n",
    "    \n",
    "    # Check dataset balancing\n",
    "    total_count = df.shape[0]\n",
    "    for label in label_counts.index:\n",
    "        label_percentage = (label_counts[label] / total_count) * 100\n",
    "        print(\"\\nLabel {} percentage: {:.2f}%\".format(label, label_percentage))\n",
    "    \n",
    "EDA(data)"
   ]
  },
  {
   "cell_type": "code",
   "execution_count": 32,
   "metadata": {},
   "outputs": [],
   "source": [
    "data.to_csv(\"D:/iti2/NLP/final project/Data Preprocessing/Preprocessed_data.csv\")  "
   ]
  }
 ],
 "metadata": {
  "colab": {
   "provenance": []
  },
  "kernelspec": {
   "display_name": "Python 3 (ipykernel)",
   "language": "python",
   "name": "python3"
  },
  "language_info": {
   "codemirror_mode": {
    "name": "ipython",
    "version": 3
   },
   "file_extension": ".py",
   "mimetype": "text/x-python",
   "name": "python",
   "nbconvert_exporter": "python",
   "pygments_lexer": "ipython3",
   "version": "3.11.5"
  }
 },
 "nbformat": 4,
 "nbformat_minor": 1
}
